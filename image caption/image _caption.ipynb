{
 "cells": [
  {
   "cell_type": "code",
   "execution_count": null,
   "metadata": {},
   "outputs": [],
   "source": [
    "from transformers import VisionEncoderDecoderModel, ViTImageProcessor, AutoTokenizer\n",
    "import torch\n",
    "from PIL import Image\n",
    "\n",
    "model = VisionEncoderDecoderModel.from_pretrained(\"nlpconnect/vit-gpt2-image-captioning\")\n",
    "feature_extractor = ViTImageProcessor.from_pretrained(\"nlpconnect/vit-gpt2-image-captioning\")\n",
    "tokenizer = AutoTokenizer.from_pretrained(\"nlpconnect/vit-gpt2-image-captioning\")\n",
    "\n",
    "device = torch.device(\"cuda\" if torch.cuda.is_available() else \"cpu\")\n",
    "model.to(device)\n",
    "\n",
    "max_length = 16\n",
    "num_beams = 10\n",
    "num_captions = 3  # You can change this number to generate more captions per image\n",
    "gen_kwargs = {\"max_length\": max_length, \"num_beams\": num_beams, \"num_return_sequences\": num_captions}\n",
    "\n",
    "def predict_captions(image_path):\n",
    "    try:\n",
    "        image = Image.open(image_path)\n",
    "        if image.mode != \"RGB\":\n",
    "            image = image.convert(mode=\"RGB\")\n",
    "        pixel_values = feature_extractor(images=[image], return_tensors=\"pt\").pixel_values\n",
    "        pixel_values = pixel_values.to(device)\n",
    "        output_ids = model.generate(pixel_values, **gen_kwargs)\n",
    "        \n",
    "        # Split the generated captions into a list\n",
    "        all_preds = []\n",
    "        for seq_ids in output_ids:\n",
    "            preds = tokenizer.decode(seq_ids, skip_special_tokens=True)\n",
    "            preds = [pred.strip() for pred in preds.split('\\n')]\n",
    "            all_preds.extend(preds)\n",
    "        \n",
    "        return all_preds\n",
    "    except Exception as e:\n",
    "        print(\"Error: \", str(e))\n",
    "\n",
    "# Example usage:\n",
    "image_path = \"path_to_your_image.jpg\"\n",
    "predictions = predict_captions(image_path)\n",
    "for caption in predictions:\n",
    "    print(caption) \n"
   ]
  }
 ],
 "metadata": {
  "language_info": {
   "name": "python"
  },
  "orig_nbformat": 4
 },
 "nbformat": 4,
 "nbformat_minor": 2
}
